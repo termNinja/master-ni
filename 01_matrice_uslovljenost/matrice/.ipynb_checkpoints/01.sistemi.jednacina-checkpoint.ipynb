{
 "cells": [
  {
   "cell_type": "code",
   "execution_count": 1,
   "metadata": {},
   "outputs": [],
   "source": [
    "import numpy as np"
   ]
  },
  {
   "cell_type": "code",
   "execution_count": 3,
   "metadata": {},
   "outputs": [],
   "source": [
    "import numpy.linalg as la"
   ]
  },
  {
   "cell_type": "markdown",
   "metadata": {},
   "source": [
    "## Sistem jednacina\n",
    "\n",
    "$ x_1 + x_2 = 6 $\n",
    "\n",
    "$ -3x_1 + x_2 = 2 $\n",
    "\n",
    "Mozemo zapisati matricno:\n",
    "\n",
    "$ A = \\begin{bmatrix}\n",
    "    1 & 1\\\\\n",
    "    -3 & 1\n",
    "\\end{bmatrix}$\n",
    "\n",
    "$\n",
    "x = \\begin{bmatrix}\n",
    "x_1 \\\\ x_2\n",
    "\\end{bmatrix}\n",
    "$\n",
    "\n",
    "$ b = \\begin{bmatrix} 6 \\\\ 2 \\end{bmatrix}$\n",
    "\n",
    "Odnosno:\n",
    "\n",
    "$ Ax = b $"
   ]
  },
  {
   "cell_type": "code",
   "execution_count": 13,
   "metadata": {},
   "outputs": [
    {
     "data": {
      "text/plain": [
       "(2, 2)"
      ]
     },
     "execution_count": 13,
     "metadata": {},
     "output_type": "execute_result"
    }
   ],
   "source": [
    "A = np.array([[1, 1], [-3, 1]])\n",
    "A.shape"
   ]
  },
  {
   "cell_type": "code",
   "execution_count": 14,
   "metadata": {},
   "outputs": [
    {
     "data": {
      "text/plain": [
       "(2,)"
      ]
     },
     "execution_count": 14,
     "metadata": {},
     "output_type": "execute_result"
    }
   ],
   "source": [
    "b = np.array([6, 2])\n",
    "b.shape"
   ]
  },
  {
   "cell_type": "code",
   "execution_count": 20,
   "metadata": {},
   "outputs": [
    {
     "name": "stdout",
     "output_type": "stream",
     "text": [
      "x_1 = 1\n",
      "x_2 = 5\n"
     ]
    }
   ],
   "source": [
    "x = la.solve(A, b)\n",
    "print(\"x_1 = %g\\nx_2 = %g\" % (x[0], x[1]))"
   ]
  }
 ],
 "metadata": {
  "kernelspec": {
   "display_name": "Python 3",
   "language": "python",
   "name": "python3"
  },
  "language_info": {
   "codemirror_mode": {
    "name": "ipython",
    "version": 3
   },
   "file_extension": ".py",
   "mimetype": "text/x-python",
   "name": "python",
   "nbconvert_exporter": "python",
   "pygments_lexer": "ipython3",
   "version": "3.6.4"
  }
 },
 "nbformat": 4,
 "nbformat_minor": 2
}

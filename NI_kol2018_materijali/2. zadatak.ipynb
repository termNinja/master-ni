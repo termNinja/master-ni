{
 "cells": [
  {
   "cell_type": "markdown",
   "metadata": {},
   "source": [
    "U datoteci *cars.tidy.csv* se nalaze informacije o automobilima koje objedinjuju karakteristike automobila i njihove prodajne cene. "
   ]
  },
  {
   "cell_type": "code",
   "execution_count": 139,
   "metadata": {},
   "outputs": [],
   "source": [
    "import numpy as np\n",
    "import pandas as pd\n",
    "from matplotlib import pyplot as plt\n",
    "%matplotlib inline"
   ]
  },
  {
   "cell_type": "code",
   "execution_count": 140,
   "metadata": {},
   "outputs": [],
   "source": [
    "from sklearn import linear_model\n",
    "from sklearn import model_selection\n",
    "from sklearn import preprocessing\n",
    "from sklearn import metrics"
   ]
  },
  {
   "cell_type": "markdown",
   "metadata": {},
   "source": [
    "a) Učitati podatke iz datoteke *cars.tidy.csv*, a zatim ispisati informacije o najzastupljenijem brendu i cenovnom opsegu koji za njega važi. Ukoliko ima više takvih brendova, ispisati informacije o svakom."
   ]
  },
  {
   "cell_type": "code",
   "execution_count": 141,
   "metadata": {
    "scrolled": true
   },
   "outputs": [
    {
     "data": {
      "text/html": [
       "<div>\n",
       "<style scoped>\n",
       "    .dataframe tbody tr th:only-of-type {\n",
       "        vertical-align: middle;\n",
       "    }\n",
       "\n",
       "    .dataframe tbody tr th {\n",
       "        vertical-align: top;\n",
       "    }\n",
       "\n",
       "    .dataframe thead th {\n",
       "        text-align: right;\n",
       "    }\n",
       "</style>\n",
       "<table border=\"1\" class=\"dataframe\">\n",
       "  <thead>\n",
       "    <tr style=\"text-align: right;\">\n",
       "      <th></th>\n",
       "      <th>name</th>\n",
       "      <th>model</th>\n",
       "      <th>price</th>\n",
       "      <th>type</th>\n",
       "      <th>engine</th>\n",
       "      <th>fuel</th>\n",
       "      <th>weight</th>\n",
       "      <th>clearance</th>\n",
       "      <th>bhp</th>\n",
       "      <th>rpm</th>\n",
       "      <th>mileage_city</th>\n",
       "      <th>mileage_highway</th>\n",
       "      <th>cylinders</th>\n",
       "      <th>seats</th>\n",
       "      <th>transmission_type</th>\n",
       "      <th>brand</th>\n",
       "      <th>gears</th>\n",
       "      <th>transmission</th>\n",
       "      <th>fuel_type</th>\n",
       "    </tr>\n",
       "  </thead>\n",
       "  <tbody>\n",
       "    <tr>\n",
       "      <th>0</th>\n",
       "      <td>Ashok Leyland Stile</td>\n",
       "      <td>Ashok Leyland Stile LE 8-STR (Diesel)</td>\n",
       "      <td>749990.0</td>\n",
       "      <td>MPV</td>\n",
       "      <td>1461</td>\n",
       "      <td>Diesel</td>\n",
       "      <td>2000</td>\n",
       "      <td>180.0</td>\n",
       "      <td>75</td>\n",
       "      <td>3300</td>\n",
       "      <td>16.20000</td>\n",
       "      <td>20.7</td>\n",
       "      <td>4.0</td>\n",
       "      <td>8</td>\n",
       "      <td>5 Speed Manual</td>\n",
       "      <td>Ashok</td>\n",
       "      <td>5</td>\n",
       "      <td>Manual</td>\n",
       "      <td>1</td>\n",
       "    </tr>\n",
       "    <tr>\n",
       "      <th>1</th>\n",
       "      <td>Aston Martin Rapide</td>\n",
       "      <td>Aston Martin Rapide LUXE (Petrol)</td>\n",
       "      <td>35000000.0</td>\n",
       "      <td>Sedan</td>\n",
       "      <td>5935</td>\n",
       "      <td>Petrol</td>\n",
       "      <td>NaN</td>\n",
       "      <td>120.0</td>\n",
       "      <td>350</td>\n",
       "      <td>6000</td>\n",
       "      <td>11.83425</td>\n",
       "      <td>7.0</td>\n",
       "      <td>4.0</td>\n",
       "      <td>4</td>\n",
       "      <td>6 Speed Automatic</td>\n",
       "      <td>Aston</td>\n",
       "      <td>6</td>\n",
       "      <td>Automatic</td>\n",
       "      <td>0</td>\n",
       "    </tr>\n",
       "    <tr>\n",
       "      <th>2</th>\n",
       "      <td>Aston Martin Rapide S</td>\n",
       "      <td>Aston Martin Rapide S (Petrol)</td>\n",
       "      <td>44000000.0</td>\n",
       "      <td>Sedan</td>\n",
       "      <td>5935</td>\n",
       "      <td>Petrol</td>\n",
       "      <td>1990</td>\n",
       "      <td>110.0</td>\n",
       "      <td>550</td>\n",
       "      <td>6750</td>\n",
       "      <td>5.60000</td>\n",
       "      <td>11.9</td>\n",
       "      <td>12.0</td>\n",
       "      <td>4</td>\n",
       "      <td>6 Speed Manual</td>\n",
       "      <td>Aston</td>\n",
       "      <td>6</td>\n",
       "      <td>Manual</td>\n",
       "      <td>0</td>\n",
       "    </tr>\n",
       "    <tr>\n",
       "      <th>3</th>\n",
       "      <td>Aston Martin V12 Vantage</td>\n",
       "      <td>Aston Martin V12 Vantage Coupe (Petrol)</td>\n",
       "      <td>35000000.0</td>\n",
       "      <td>Coupe</td>\n",
       "      <td>5935</td>\n",
       "      <td>Petrol</td>\n",
       "      <td>NaN</td>\n",
       "      <td>120.0</td>\n",
       "      <td>510</td>\n",
       "      <td>6500</td>\n",
       "      <td>7.00000</td>\n",
       "      <td>9.0</td>\n",
       "      <td>12.0</td>\n",
       "      <td>2</td>\n",
       "      <td>6 Speed Manual</td>\n",
       "      <td>Aston</td>\n",
       "      <td>6</td>\n",
       "      <td>Manual</td>\n",
       "      <td>0</td>\n",
       "    </tr>\n",
       "    <tr>\n",
       "      <th>4</th>\n",
       "      <td>Aston Martin V8 Vantage</td>\n",
       "      <td>Aston Martin V8 Vantage Coupe (Petrol)</td>\n",
       "      <td>13500000.0</td>\n",
       "      <td>Coupe</td>\n",
       "      <td>4735</td>\n",
       "      <td>Petrol</td>\n",
       "      <td>NaN</td>\n",
       "      <td>120.0</td>\n",
       "      <td>313</td>\n",
       "      <td>7000</td>\n",
       "      <td>5.00000</td>\n",
       "      <td>8.0</td>\n",
       "      <td>8.0</td>\n",
       "      <td>2</td>\n",
       "      <td>6 Speed Manual</td>\n",
       "      <td>Aston</td>\n",
       "      <td>6</td>\n",
       "      <td>Manual</td>\n",
       "      <td>0</td>\n",
       "    </tr>\n",
       "  </tbody>\n",
       "</table>\n",
       "</div>"
      ],
      "text/plain": [
       "                       name                                    model  \\\n",
       "0       Ashok Leyland Stile    Ashok Leyland Stile LE 8-STR (Diesel)   \n",
       "1       Aston Martin Rapide        Aston Martin Rapide LUXE (Petrol)   \n",
       "2     Aston Martin Rapide S           Aston Martin Rapide S (Petrol)   \n",
       "3  Aston Martin V12 Vantage  Aston Martin V12 Vantage Coupe (Petrol)   \n",
       "4   Aston Martin V8 Vantage   Aston Martin V8 Vantage Coupe (Petrol)   \n",
       "\n",
       "        price   type  engine     fuel weight  clearance    bhp    rpm  \\\n",
       "0    749990.0    MPV    1461   Diesel   2000      180.0    75    3300   \n",
       "1  35000000.0  Sedan    5935   Petrol    NaN      120.0   350    6000   \n",
       "2  44000000.0  Sedan    5935   Petrol   1990      110.0   550    6750   \n",
       "3  35000000.0  Coupe    5935   Petrol    NaN      120.0   510    6500   \n",
       "4  13500000.0  Coupe    4735   Petrol    NaN      120.0   313    7000   \n",
       "\n",
       "   mileage_city  mileage_highway  cylinders seats   transmission_type  brand  \\\n",
       "0      16.20000             20.7        4.0     8      5 Speed Manual  Ashok   \n",
       "1      11.83425              7.0        4.0     4   6 Speed Automatic  Aston   \n",
       "2       5.60000             11.9       12.0     4      6 Speed Manual  Aston   \n",
       "3       7.00000              9.0       12.0     2      6 Speed Manual  Aston   \n",
       "4       5.00000              8.0        8.0     2      6 Speed Manual  Aston   \n",
       "\n",
       "   gears transmission  fuel_type  \n",
       "0      5       Manual          1  \n",
       "1      6    Automatic          0  \n",
       "2      6       Manual          0  \n",
       "3      6       Manual          0  \n",
       "4      6       Manual          0  "
      ]
     },
     "execution_count": 141,
     "metadata": {},
     "output_type": "execute_result"
    }
   ],
   "source": [
    "df = pd.read_csv('cars.tidy.csv')\n",
    "df.head()"
   ]
  },
  {
   "cell_type": "code",
   "execution_count": 142,
   "metadata": {
    "scrolled": false
   },
   "outputs": [
    {
     "data": {
      "text/html": [
       "<div>\n",
       "<style scoped>\n",
       "    .dataframe tbody tr th:only-of-type {\n",
       "        vertical-align: middle;\n",
       "    }\n",
       "\n",
       "    .dataframe tbody tr th {\n",
       "        vertical-align: top;\n",
       "    }\n",
       "\n",
       "    .dataframe thead th {\n",
       "        text-align: right;\n",
       "    }\n",
       "</style>\n",
       "<table border=\"1\" class=\"dataframe\">\n",
       "  <thead>\n",
       "    <tr style=\"text-align: right;\">\n",
       "      <th></th>\n",
       "      <th>price</th>\n",
       "      <th>engine</th>\n",
       "      <th>clearance</th>\n",
       "      <th>mileage_city</th>\n",
       "      <th>mileage_highway</th>\n",
       "      <th>cylinders</th>\n",
       "      <th>gears</th>\n",
       "      <th>fuel_type</th>\n",
       "    </tr>\n",
       "  </thead>\n",
       "  <tbody>\n",
       "    <tr>\n",
       "      <th>count</th>\n",
       "      <td>2.030000e+02</td>\n",
       "      <td>203.000000</td>\n",
       "      <td>183.000000</td>\n",
       "      <td>203.000000</td>\n",
       "      <td>203.000000</td>\n",
       "      <td>193.000000</td>\n",
       "      <td>203.000000</td>\n",
       "      <td>203.000000</td>\n",
       "    </tr>\n",
       "    <tr>\n",
       "      <th>mean</th>\n",
       "      <td>5.950094e+06</td>\n",
       "      <td>2303.571429</td>\n",
       "      <td>168.653005</td>\n",
       "      <td>11.834250</td>\n",
       "      <td>15.351495</td>\n",
       "      <td>4.720207</td>\n",
       "      <td>5.906404</td>\n",
       "      <td>0.389163</td>\n",
       "    </tr>\n",
       "    <tr>\n",
       "      <th>std</th>\n",
       "      <td>9.690189e+06</td>\n",
       "      <td>1353.323741</td>\n",
       "      <td>27.827591</td>\n",
       "      <td>3.592238</td>\n",
       "      <td>4.210524</td>\n",
       "      <td>1.869285</td>\n",
       "      <td>1.150165</td>\n",
       "      <td>0.498791</td>\n",
       "    </tr>\n",
       "    <tr>\n",
       "      <th>min</th>\n",
       "      <td>1.990000e+05</td>\n",
       "      <td>3.000000</td>\n",
       "      <td>100.000000</td>\n",
       "      <td>1.200000</td>\n",
       "      <td>4.000000</td>\n",
       "      <td>2.000000</td>\n",
       "      <td>4.000000</td>\n",
       "      <td>0.000000</td>\n",
       "    </tr>\n",
       "    <tr>\n",
       "      <th>25%</th>\n",
       "      <td>6.143980e+05</td>\n",
       "      <td>1373.000000</td>\n",
       "      <td>155.000000</td>\n",
       "      <td>11.400000</td>\n",
       "      <td>12.735000</td>\n",
       "      <td>4.000000</td>\n",
       "      <td>5.000000</td>\n",
       "      <td>0.000000</td>\n",
       "    </tr>\n",
       "    <tr>\n",
       "      <th>50%</th>\n",
       "      <td>1.720172e+06</td>\n",
       "      <td>1984.000000</td>\n",
       "      <td>165.000000</td>\n",
       "      <td>11.834250</td>\n",
       "      <td>15.351495</td>\n",
       "      <td>4.000000</td>\n",
       "      <td>5.000000</td>\n",
       "      <td>0.000000</td>\n",
       "    </tr>\n",
       "    <tr>\n",
       "      <th>75%</th>\n",
       "      <td>7.129000e+06</td>\n",
       "      <td>2967.000000</td>\n",
       "      <td>180.000000</td>\n",
       "      <td>13.250000</td>\n",
       "      <td>18.000000</td>\n",
       "      <td>5.000000</td>\n",
       "      <td>7.000000</td>\n",
       "      <td>1.000000</td>\n",
       "    </tr>\n",
       "    <tr>\n",
       "      <th>max</th>\n",
       "      <td>5.000000e+07</td>\n",
       "      <td>6592.000000</td>\n",
       "      <td>295.500000</td>\n",
       "      <td>28.000000</td>\n",
       "      <td>29.000000</td>\n",
       "      <td>12.000000</td>\n",
       "      <td>8.000000</td>\n",
       "      <td>2.000000</td>\n",
       "    </tr>\n",
       "  </tbody>\n",
       "</table>\n",
       "</div>"
      ],
      "text/plain": [
       "              price       engine   clearance  mileage_city  mileage_highway  \\\n",
       "count  2.030000e+02   203.000000  183.000000    203.000000       203.000000   \n",
       "mean   5.950094e+06  2303.571429  168.653005     11.834250        15.351495   \n",
       "std    9.690189e+06  1353.323741   27.827591      3.592238         4.210524   \n",
       "min    1.990000e+05     3.000000  100.000000      1.200000         4.000000   \n",
       "25%    6.143980e+05  1373.000000  155.000000     11.400000        12.735000   \n",
       "50%    1.720172e+06  1984.000000  165.000000     11.834250        15.351495   \n",
       "75%    7.129000e+06  2967.000000  180.000000     13.250000        18.000000   \n",
       "max    5.000000e+07  6592.000000  295.500000     28.000000        29.000000   \n",
       "\n",
       "        cylinders       gears   fuel_type  \n",
       "count  193.000000  203.000000  203.000000  \n",
       "mean     4.720207    5.906404    0.389163  \n",
       "std      1.869285    1.150165    0.498791  \n",
       "min      2.000000    4.000000    0.000000  \n",
       "25%      4.000000    5.000000    0.000000  \n",
       "50%      4.000000    5.000000    0.000000  \n",
       "75%      5.000000    7.000000    1.000000  \n",
       "max     12.000000    8.000000    2.000000  "
      ]
     },
     "execution_count": 142,
     "metadata": {},
     "output_type": "execute_result"
    }
   ],
   "source": [
    "df.describe()"
   ]
  },
  {
   "cell_type": "code",
   "execution_count": 143,
   "metadata": {},
   "outputs": [
    {
     "data": {
      "text/plain": [
       "(203, 19)"
      ]
     },
     "execution_count": 143,
     "metadata": {},
     "output_type": "execute_result"
    }
   ],
   "source": [
    "df.shape"
   ]
  },
  {
   "cell_type": "code",
   "execution_count": 144,
   "metadata": {
    "scrolled": true
   },
   "outputs": [
    {
     "data": {
      "text/html": [
       "<div>\n",
       "<style scoped>\n",
       "    .dataframe tbody tr th:only-of-type {\n",
       "        vertical-align: middle;\n",
       "    }\n",
       "\n",
       "    .dataframe tbody tr th {\n",
       "        vertical-align: top;\n",
       "    }\n",
       "\n",
       "    .dataframe thead tr th {\n",
       "        text-align: left;\n",
       "    }\n",
       "\n",
       "    .dataframe thead tr:last-of-type th {\n",
       "        text-align: right;\n",
       "    }\n",
       "</style>\n",
       "<table border=\"1\" class=\"dataframe\">\n",
       "  <thead>\n",
       "    <tr>\n",
       "      <th></th>\n",
       "      <th colspan=\"8\" halign=\"left\">price</th>\n",
       "    </tr>\n",
       "    <tr>\n",
       "      <th></th>\n",
       "      <th>count</th>\n",
       "      <th>mean</th>\n",
       "      <th>std</th>\n",
       "      <th>min</th>\n",
       "      <th>25%</th>\n",
       "      <th>50%</th>\n",
       "      <th>75%</th>\n",
       "      <th>max</th>\n",
       "    </tr>\n",
       "    <tr>\n",
       "      <th>brand</th>\n",
       "      <th></th>\n",
       "      <th></th>\n",
       "      <th></th>\n",
       "      <th></th>\n",
       "      <th></th>\n",
       "      <th></th>\n",
       "      <th></th>\n",
       "      <th></th>\n",
       "    </tr>\n",
       "  </thead>\n",
       "  <tbody>\n",
       "    <tr>\n",
       "      <th>Ashok</th>\n",
       "      <td>1.0</td>\n",
       "      <td>7.499900e+05</td>\n",
       "      <td>NaN</td>\n",
       "      <td>749990.0</td>\n",
       "      <td>749990.00</td>\n",
       "      <td>749990.0</td>\n",
       "      <td>749990.00</td>\n",
       "      <td>749990.0</td>\n",
       "    </tr>\n",
       "    <tr>\n",
       "      <th>Aston</th>\n",
       "      <td>5.0</td>\n",
       "      <td>3.320000e+07</td>\n",
       "      <td>1.161142e+07</td>\n",
       "      <td>13500000.0</td>\n",
       "      <td>35000000.00</td>\n",
       "      <td>35000000.0</td>\n",
       "      <td>38500000.00</td>\n",
       "      <td>44000000.0</td>\n",
       "    </tr>\n",
       "    <tr>\n",
       "      <th>Audi</th>\n",
       "      <td>14.0</td>\n",
       "      <td>7.892857e+06</td>\n",
       "      <td>4.495092e+06</td>\n",
       "      <td>2295000.0</td>\n",
       "      <td>4401750.00</td>\n",
       "      <td>7311000.0</td>\n",
       "      <td>10556750.00</td>\n",
       "      <td>15991000.0</td>\n",
       "    </tr>\n",
       "    <tr>\n",
       "      <th>BMW</th>\n",
       "      <td>16.0</td>\n",
       "      <td>8.772812e+06</td>\n",
       "      <td>5.626747e+06</td>\n",
       "      <td>2000000.0</td>\n",
       "      <td>4365000.00</td>\n",
       "      <td>7980000.0</td>\n",
       "      <td>11542500.00</td>\n",
       "      <td>22900000.0</td>\n",
       "    </tr>\n",
       "    <tr>\n",
       "      <th>Bentley</th>\n",
       "      <td>4.0</td>\n",
       "      <td>2.440000e+07</td>\n",
       "      <td>5.593449e+06</td>\n",
       "      <td>18700000.0</td>\n",
       "      <td>20425000.00</td>\n",
       "      <td>23950000.0</td>\n",
       "      <td>27925000.00</td>\n",
       "      <td>31000000.0</td>\n",
       "    </tr>\n",
       "    <tr>\n",
       "      <th>Car</th>\n",
       "      <td>1.0</td>\n",
       "      <td>2.233000e+06</td>\n",
       "      <td>NaN</td>\n",
       "      <td>2233000.0</td>\n",
       "      <td>2233000.00</td>\n",
       "      <td>2233000.0</td>\n",
       "      <td>2233000.00</td>\n",
       "      <td>2233000.0</td>\n",
       "    </tr>\n",
       "    <tr>\n",
       "      <th>Chevrolet</th>\n",
       "      <td>7.0</td>\n",
       "      <td>9.194057e+05</td>\n",
       "      <td>7.155231e+05</td>\n",
       "      <td>344710.0</td>\n",
       "      <td>509183.00</td>\n",
       "      <td>611960.0</td>\n",
       "      <td>1053287.50</td>\n",
       "      <td>2354229.0</td>\n",
       "    </tr>\n",
       "    <tr>\n",
       "      <th>Datsun</th>\n",
       "      <td>1.0</td>\n",
       "      <td>3.796420e+05</td>\n",
       "      <td>NaN</td>\n",
       "      <td>379642.0</td>\n",
       "      <td>379642.00</td>\n",
       "      <td>379642.0</td>\n",
       "      <td>379642.00</td>\n",
       "      <td>379642.0</td>\n",
       "    </tr>\n",
       "    <tr>\n",
       "      <th>Ferrari</th>\n",
       "      <td>4.0</td>\n",
       "      <td>2.872500e+07</td>\n",
       "      <td>6.061559e+06</td>\n",
       "      <td>22000000.0</td>\n",
       "      <td>24400000.00</td>\n",
       "      <td>29450000.0</td>\n",
       "      <td>33775000.00</td>\n",
       "      <td>34000000.0</td>\n",
       "    </tr>\n",
       "    <tr>\n",
       "      <th>Fiat</th>\n",
       "      <td>5.0</td>\n",
       "      <td>6.081366e+05</td>\n",
       "      <td>7.255764e+04</td>\n",
       "      <td>498577.0</td>\n",
       "      <td>600000.00</td>\n",
       "      <td>612439.0</td>\n",
       "      <td>629187.00</td>\n",
       "      <td>700480.0</td>\n",
       "    </tr>\n",
       "    <tr>\n",
       "      <th>Force</th>\n",
       "      <td>1.0</td>\n",
       "      <td>9.268050e+05</td>\n",
       "      <td>NaN</td>\n",
       "      <td>926805.0</td>\n",
       "      <td>926805.00</td>\n",
       "      <td>926805.0</td>\n",
       "      <td>926805.00</td>\n",
       "      <td>926805.0</td>\n",
       "    </tr>\n",
       "    <tr>\n",
       "      <th>Ford</th>\n",
       "      <td>5.0</td>\n",
       "      <td>9.320400e+05</td>\n",
       "      <td>7.365895e+05</td>\n",
       "      <td>413700.0</td>\n",
       "      <td>506000.00</td>\n",
       "      <td>675000.0</td>\n",
       "      <td>850000.00</td>\n",
       "      <td>2215500.0</td>\n",
       "    </tr>\n",
       "    <tr>\n",
       "      <th>Gumpert</th>\n",
       "      <td>1.0</td>\n",
       "      <td>5.000000e+07</td>\n",
       "      <td>NaN</td>\n",
       "      <td>50000000.0</td>\n",
       "      <td>50000000.00</td>\n",
       "      <td>50000000.0</td>\n",
       "      <td>50000000.00</td>\n",
       "      <td>50000000.0</td>\n",
       "    </tr>\n",
       "    <tr>\n",
       "      <th>Honda</th>\n",
       "      <td>7.0</td>\n",
       "      <td>9.107793e+05</td>\n",
       "      <td>5.997698e+05</td>\n",
       "      <td>421400.0</td>\n",
       "      <td>596800.00</td>\n",
       "      <td>750000.0</td>\n",
       "      <td>910227.50</td>\n",
       "      <td>2190000.0</td>\n",
       "    </tr>\n",
       "    <tr>\n",
       "      <th>Hyundai</th>\n",
       "      <td>9.0</td>\n",
       "      <td>9.843518e+05</td>\n",
       "      <td>8.351123e+05</td>\n",
       "      <td>302157.0</td>\n",
       "      <td>463027.00</td>\n",
       "      <td>522974.0</td>\n",
       "      <td>1413196.00</td>\n",
       "      <td>2684430.0</td>\n",
       "    </tr>\n",
       "    <tr>\n",
       "      <th>Isuzu</th>\n",
       "      <td>1.0</td>\n",
       "      <td>2.195000e+06</td>\n",
       "      <td>NaN</td>\n",
       "      <td>2195000.0</td>\n",
       "      <td>2195000.00</td>\n",
       "      <td>2195000.0</td>\n",
       "      <td>2195000.00</td>\n",
       "      <td>2195000.0</td>\n",
       "    </tr>\n",
       "    <tr>\n",
       "      <th>Jaguar</th>\n",
       "      <td>4.0</td>\n",
       "      <td>1.025600e+07</td>\n",
       "      <td>4.451989e+06</td>\n",
       "      <td>4512000.0</td>\n",
       "      <td>8159250.00</td>\n",
       "      <td>10787500.0</td>\n",
       "      <td>12884251.00</td>\n",
       "      <td>14937004.0</td>\n",
       "    </tr>\n",
       "    <tr>\n",
       "      <th>Lamborghini</th>\n",
       "      <td>1.0</td>\n",
       "      <td>3.430000e+07</td>\n",
       "      <td>NaN</td>\n",
       "      <td>34300000.0</td>\n",
       "      <td>34300000.00</td>\n",
       "      <td>34300000.0</td>\n",
       "      <td>34300000.00</td>\n",
       "      <td>34300000.0</td>\n",
       "    </tr>\n",
       "    <tr>\n",
       "      <th>Land</th>\n",
       "      <td>5.0</td>\n",
       "      <td>1.020451e+07</td>\n",
       "      <td>5.762622e+06</td>\n",
       "      <td>3919000.0</td>\n",
       "      <td>5499000.00</td>\n",
       "      <td>10800000.0</td>\n",
       "      <td>12504562.00</td>\n",
       "      <td>18300000.0</td>\n",
       "    </tr>\n",
       "    <tr>\n",
       "      <th>Mahindra</th>\n",
       "      <td>9.0</td>\n",
       "      <td>7.237001e+05</td>\n",
       "      <td>1.900030e+05</td>\n",
       "      <td>475817.0</td>\n",
       "      <td>600962.00</td>\n",
       "      <td>673293.0</td>\n",
       "      <td>807513.00</td>\n",
       "      <td>1120668.0</td>\n",
       "    </tr>\n",
       "    <tr>\n",
       "      <th>Maruti</th>\n",
       "      <td>17.0</td>\n",
       "      <td>6.206985e+05</td>\n",
       "      <td>5.191192e+05</td>\n",
       "      <td>247936.0</td>\n",
       "      <td>337832.00</td>\n",
       "      <td>442275.0</td>\n",
       "      <td>602995.00</td>\n",
       "      <td>2139904.0</td>\n",
       "    </tr>\n",
       "    <tr>\n",
       "      <th>Mercedes</th>\n",
       "      <td>1.0</td>\n",
       "      <td>3.990000e+06</td>\n",
       "      <td>NaN</td>\n",
       "      <td>3990000.0</td>\n",
       "      <td>3990000.00</td>\n",
       "      <td>3990000.0</td>\n",
       "      <td>3990000.00</td>\n",
       "      <td>3990000.0</td>\n",
       "    </tr>\n",
       "    <tr>\n",
       "      <th>Mercedes-Benz</th>\n",
       "      <td>15.0</td>\n",
       "      <td>7.961367e+06</td>\n",
       "      <td>5.768896e+06</td>\n",
       "      <td>2329000.0</td>\n",
       "      <td>4062500.00</td>\n",
       "      <td>7168000.0</td>\n",
       "      <td>9114000.00</td>\n",
       "      <td>25200000.0</td>\n",
       "    </tr>\n",
       "    <tr>\n",
       "      <th>Mini</th>\n",
       "      <td>3.0</td>\n",
       "      <td>3.308333e+06</td>\n",
       "      <td>1.179336e+05</td>\n",
       "      <td>3185000.0</td>\n",
       "      <td>3252500.00</td>\n",
       "      <td>3320000.0</td>\n",
       "      <td>3370000.00</td>\n",
       "      <td>3420000.0</td>\n",
       "    </tr>\n",
       "    <tr>\n",
       "      <th>Mitsubishi</th>\n",
       "      <td>1.0</td>\n",
       "      <td>2.350000e+06</td>\n",
       "      <td>NaN</td>\n",
       "      <td>2350000.0</td>\n",
       "      <td>2350000.00</td>\n",
       "      <td>2350000.0</td>\n",
       "      <td>2350000.00</td>\n",
       "      <td>2350000.0</td>\n",
       "    </tr>\n",
       "    <tr>\n",
       "      <th>New</th>\n",
       "      <td>3.0</td>\n",
       "      <td>1.019034e+06</td>\n",
       "      <td>7.512932e+05</td>\n",
       "      <td>420923.0</td>\n",
       "      <td>597413.00</td>\n",
       "      <td>773903.0</td>\n",
       "      <td>1318089.50</td>\n",
       "      <td>1862276.0</td>\n",
       "    </tr>\n",
       "    <tr>\n",
       "      <th>Nissan</th>\n",
       "      <td>7.0</td>\n",
       "      <td>1.077293e+06</td>\n",
       "      <td>7.689497e+05</td>\n",
       "      <td>312270.0</td>\n",
       "      <td>555909.50</td>\n",
       "      <td>849999.0</td>\n",
       "      <td>1538480.50</td>\n",
       "      <td>2190000.0</td>\n",
       "    </tr>\n",
       "    <tr>\n",
       "      <th>Porsche</th>\n",
       "      <td>4.0</td>\n",
       "      <td>1.123800e+07</td>\n",
       "      <td>3.150594e+06</td>\n",
       "      <td>9202000.0</td>\n",
       "      <td>9388000.00</td>\n",
       "      <td>9925000.0</td>\n",
       "      <td>11775000.00</td>\n",
       "      <td>15900000.0</td>\n",
       "    </tr>\n",
       "    <tr>\n",
       "      <th>Renault</th>\n",
       "      <td>5.0</td>\n",
       "      <td>8.437218e+05</td>\n",
       "      <td>3.469330e+05</td>\n",
       "      <td>446100.0</td>\n",
       "      <td>724500.00</td>\n",
       "      <td>819000.0</td>\n",
       "      <td>830009.00</td>\n",
       "      <td>1399000.0</td>\n",
       "    </tr>\n",
       "    <tr>\n",
       "      <th>Rolls</th>\n",
       "      <td>1.0</td>\n",
       "      <td>4.660000e+07</td>\n",
       "      <td>NaN</td>\n",
       "      <td>46600000.0</td>\n",
       "      <td>46600000.00</td>\n",
       "      <td>46600000.0</td>\n",
       "      <td>46600000.00</td>\n",
       "      <td>46600000.0</td>\n",
       "    </tr>\n",
       "    <tr>\n",
       "      <th>Rolls-Royce</th>\n",
       "      <td>1.0</td>\n",
       "      <td>4.600000e+07</td>\n",
       "      <td>NaN</td>\n",
       "      <td>46000000.0</td>\n",
       "      <td>46000000.00</td>\n",
       "      <td>46000000.0</td>\n",
       "      <td>46000000.00</td>\n",
       "      <td>46000000.0</td>\n",
       "    </tr>\n",
       "    <tr>\n",
       "      <th>San</th>\n",
       "      <td>1.0</td>\n",
       "      <td>5.950000e+05</td>\n",
       "      <td>NaN</td>\n",
       "      <td>595000.0</td>\n",
       "      <td>595000.00</td>\n",
       "      <td>595000.0</td>\n",
       "      <td>595000.00</td>\n",
       "      <td>595000.0</td>\n",
       "    </tr>\n",
       "    <tr>\n",
       "      <th>Skoda</th>\n",
       "      <td>5.0</td>\n",
       "      <td>1.102775e+06</td>\n",
       "      <td>6.026295e+05</td>\n",
       "      <td>502768.0</td>\n",
       "      <td>755500.00</td>\n",
       "      <td>850608.0</td>\n",
       "      <td>1395000.00</td>\n",
       "      <td>2010000.0</td>\n",
       "    </tr>\n",
       "    <tr>\n",
       "      <th>Ssangyong</th>\n",
       "      <td>2.0</td>\n",
       "      <td>1.801168e+06</td>\n",
       "      <td>2.632820e+05</td>\n",
       "      <td>1615000.0</td>\n",
       "      <td>1708084.25</td>\n",
       "      <td>1801168.5</td>\n",
       "      <td>1894252.75</td>\n",
       "      <td>1987337.0</td>\n",
       "    </tr>\n",
       "    <tr>\n",
       "      <th>Tata</th>\n",
       "      <td>16.0</td>\n",
       "      <td>6.431827e+05</td>\n",
       "      <td>2.426364e+05</td>\n",
       "      <td>199000.0</td>\n",
       "      <td>472678.75</td>\n",
       "      <td>619543.5</td>\n",
       "      <td>778058.50</td>\n",
       "      <td>1043434.0</td>\n",
       "    </tr>\n",
       "    <tr>\n",
       "      <th>Toyota</th>\n",
       "      <td>6.0</td>\n",
       "      <td>1.007982e+06</td>\n",
       "      <td>7.500572e+05</td>\n",
       "      <td>500145.0</td>\n",
       "      <td>599374.50</td>\n",
       "      <td>613040.5</td>\n",
       "      <td>1135493.00</td>\n",
       "      <td>2417200.0</td>\n",
       "    </tr>\n",
       "    <tr>\n",
       "      <th>Volkswagen</th>\n",
       "      <td>9.0</td>\n",
       "      <td>1.740244e+06</td>\n",
       "      <td>2.312281e+06</td>\n",
       "      <td>360000.0</td>\n",
       "      <td>699000.00</td>\n",
       "      <td>799800.0</td>\n",
       "      <td>1370000.00</td>\n",
       "      <td>7729000.0</td>\n",
       "    </tr>\n",
       "    <tr>\n",
       "      <th>Volvo</th>\n",
       "      <td>5.0</td>\n",
       "      <td>3.894000e+06</td>\n",
       "      <td>1.566546e+06</td>\n",
       "      <td>2475000.0</td>\n",
       "      <td>3180000.00</td>\n",
       "      <td>3190000.0</td>\n",
       "      <td>4135000.00</td>\n",
       "      <td>6490000.0</td>\n",
       "    </tr>\n",
       "  </tbody>\n",
       "</table>\n",
       "</div>"
      ],
      "text/plain": [
       "              price                                                       \\\n",
       "              count          mean           std         min          25%   \n",
       "brand                                                                      \n",
       "Ashok           1.0  7.499900e+05           NaN    749990.0    749990.00   \n",
       "Aston           5.0  3.320000e+07  1.161142e+07  13500000.0  35000000.00   \n",
       "Audi           14.0  7.892857e+06  4.495092e+06   2295000.0   4401750.00   \n",
       "BMW            16.0  8.772812e+06  5.626747e+06   2000000.0   4365000.00   \n",
       "Bentley         4.0  2.440000e+07  5.593449e+06  18700000.0  20425000.00   \n",
       "Car             1.0  2.233000e+06           NaN   2233000.0   2233000.00   \n",
       "Chevrolet       7.0  9.194057e+05  7.155231e+05    344710.0    509183.00   \n",
       "Datsun          1.0  3.796420e+05           NaN    379642.0    379642.00   \n",
       "Ferrari         4.0  2.872500e+07  6.061559e+06  22000000.0  24400000.00   \n",
       "Fiat            5.0  6.081366e+05  7.255764e+04    498577.0    600000.00   \n",
       "Force           1.0  9.268050e+05           NaN    926805.0    926805.00   \n",
       "Ford            5.0  9.320400e+05  7.365895e+05    413700.0    506000.00   \n",
       "Gumpert         1.0  5.000000e+07           NaN  50000000.0  50000000.00   \n",
       "Honda           7.0  9.107793e+05  5.997698e+05    421400.0    596800.00   \n",
       "Hyundai         9.0  9.843518e+05  8.351123e+05    302157.0    463027.00   \n",
       "Isuzu           1.0  2.195000e+06           NaN   2195000.0   2195000.00   \n",
       "Jaguar          4.0  1.025600e+07  4.451989e+06   4512000.0   8159250.00   \n",
       "Lamborghini     1.0  3.430000e+07           NaN  34300000.0  34300000.00   \n",
       "Land            5.0  1.020451e+07  5.762622e+06   3919000.0   5499000.00   \n",
       "Mahindra        9.0  7.237001e+05  1.900030e+05    475817.0    600962.00   \n",
       "Maruti         17.0  6.206985e+05  5.191192e+05    247936.0    337832.00   \n",
       "Mercedes        1.0  3.990000e+06           NaN   3990000.0   3990000.00   \n",
       "Mercedes-Benz  15.0  7.961367e+06  5.768896e+06   2329000.0   4062500.00   \n",
       "Mini            3.0  3.308333e+06  1.179336e+05   3185000.0   3252500.00   \n",
       "Mitsubishi      1.0  2.350000e+06           NaN   2350000.0   2350000.00   \n",
       "New             3.0  1.019034e+06  7.512932e+05    420923.0    597413.00   \n",
       "Nissan          7.0  1.077293e+06  7.689497e+05    312270.0    555909.50   \n",
       "Porsche         4.0  1.123800e+07  3.150594e+06   9202000.0   9388000.00   \n",
       "Renault         5.0  8.437218e+05  3.469330e+05    446100.0    724500.00   \n",
       "Rolls           1.0  4.660000e+07           NaN  46600000.0  46600000.00   \n",
       "Rolls-Royce     1.0  4.600000e+07           NaN  46000000.0  46000000.00   \n",
       "San             1.0  5.950000e+05           NaN    595000.0    595000.00   \n",
       "Skoda           5.0  1.102775e+06  6.026295e+05    502768.0    755500.00   \n",
       "Ssangyong       2.0  1.801168e+06  2.632820e+05   1615000.0   1708084.25   \n",
       "Tata           16.0  6.431827e+05  2.426364e+05    199000.0    472678.75   \n",
       "Toyota          6.0  1.007982e+06  7.500572e+05    500145.0    599374.50   \n",
       "Volkswagen      9.0  1.740244e+06  2.312281e+06    360000.0    699000.00   \n",
       "Volvo           5.0  3.894000e+06  1.566546e+06   2475000.0   3180000.00   \n",
       "\n",
       "                                                    \n",
       "                      50%          75%         max  \n",
       "brand                                               \n",
       "Ashok            749990.0    749990.00    749990.0  \n",
       "Aston          35000000.0  38500000.00  44000000.0  \n",
       "Audi            7311000.0  10556750.00  15991000.0  \n",
       "BMW             7980000.0  11542500.00  22900000.0  \n",
       "Bentley        23950000.0  27925000.00  31000000.0  \n",
       "Car             2233000.0   2233000.00   2233000.0  \n",
       "Chevrolet        611960.0   1053287.50   2354229.0  \n",
       "Datsun           379642.0    379642.00    379642.0  \n",
       "Ferrari        29450000.0  33775000.00  34000000.0  \n",
       "Fiat             612439.0    629187.00    700480.0  \n",
       "Force            926805.0    926805.00    926805.0  \n",
       "Ford             675000.0    850000.00   2215500.0  \n",
       "Gumpert        50000000.0  50000000.00  50000000.0  \n",
       "Honda            750000.0    910227.50   2190000.0  \n",
       "Hyundai          522974.0   1413196.00   2684430.0  \n",
       "Isuzu           2195000.0   2195000.00   2195000.0  \n",
       "Jaguar         10787500.0  12884251.00  14937004.0  \n",
       "Lamborghini    34300000.0  34300000.00  34300000.0  \n",
       "Land           10800000.0  12504562.00  18300000.0  \n",
       "Mahindra         673293.0    807513.00   1120668.0  \n",
       "Maruti           442275.0    602995.00   2139904.0  \n",
       "Mercedes        3990000.0   3990000.00   3990000.0  \n",
       "Mercedes-Benz   7168000.0   9114000.00  25200000.0  \n",
       "Mini            3320000.0   3370000.00   3420000.0  \n",
       "Mitsubishi      2350000.0   2350000.00   2350000.0  \n",
       "New              773903.0   1318089.50   1862276.0  \n",
       "Nissan           849999.0   1538480.50   2190000.0  \n",
       "Porsche         9925000.0  11775000.00  15900000.0  \n",
       "Renault          819000.0    830009.00   1399000.0  \n",
       "Rolls          46600000.0  46600000.00  46600000.0  \n",
       "Rolls-Royce    46000000.0  46000000.00  46000000.0  \n",
       "San              595000.0    595000.00    595000.0  \n",
       "Skoda            850608.0   1395000.00   2010000.0  \n",
       "Ssangyong       1801168.5   1894252.75   1987337.0  \n",
       "Tata             619543.5    778058.50   1043434.0  \n",
       "Toyota           613040.5   1135493.00   2417200.0  \n",
       "Volkswagen       799800.0   1370000.00   7729000.0  \n",
       "Volvo           3190000.0   4135000.00   6490000.0  "
      ]
     },
     "execution_count": 144,
     "metadata": {},
     "output_type": "execute_result"
    }
   ],
   "source": [
    "tmp = df[['brand', 'price']]\n",
    "tmp = tmp.groupby('brand')\n",
    "tmp.describe()"
   ]
  },
  {
   "cell_type": "markdown",
   "metadata": {},
   "source": [
    "b) Prikazati grafik zavisnosti cene od ukupno pređene kilometraže (uključujući i gradsku vožnju i vožnju na autoputu)."
   ]
  },
  {
   "cell_type": "code",
   "execution_count": 145,
   "metadata": {},
   "outputs": [
    {
     "name": "stdout",
     "output_type": "stream",
     "text": [
      "['name', 'model', 'price', 'type', 'engine', 'fuel', 'weight', 'clearance', 'bhp', 'rpm', 'mileage_city', 'mileage_highway', 'cylinders', 'seats', 'transmission_type', 'brand', 'gears', 'transmission', 'fuel_type']\n"
     ]
    }
   ],
   "source": [
    "cols = [c for c in df.columns]\n",
    "print(cols)"
   ]
  },
  {
   "cell_type": "code",
   "execution_count": 146,
   "metadata": {},
   "outputs": [
    {
     "data": {
      "text/plain": [
       "count    203.000000\n",
       "mean      11.834250\n",
       "std        3.592238\n",
       "min        1.200000\n",
       "25%       11.400000\n",
       "50%       11.834250\n",
       "75%       13.250000\n",
       "max       28.000000\n",
       "Name: mileage_city, dtype: float64"
      ]
     },
     "execution_count": 146,
     "metadata": {},
     "output_type": "execute_result"
    }
   ],
   "source": [
    "df['mileage_city'].describe()"
   ]
  },
  {
   "cell_type": "code",
   "execution_count": 147,
   "metadata": {},
   "outputs": [
    {
     "data": {
      "text/plain": [
       "<matplotlib.collections.PathCollection at 0x7f3bad3e4410>"
      ]
     },
     "execution_count": 147,
     "metadata": {},
     "output_type": "execute_result"
    },
    {
     "data": {
      "image/png": "[encoded data removed]",
      "text/plain": [
       "<Figure size 432x288 with 1 Axes>"
      ]
     },
     "metadata": {},
     "output_type": "display_data"
    }
   ],
   "source": [
    "price = df['price']\n",
    "mileage_city = df['mileage_city']\n",
    "plt.title(\"Zavisnost kilometraze voznje po gradu od cene\")\n",
    "plt.xlabel(\"price\")\n",
    "plt.ylabel(\"mileage_city\")\n",
    "plt.scatter(price, mileage_city)"
   ]
  },
  {
   "cell_type": "code",
   "execution_count": 148,
   "metadata": {},
   "outputs": [
    {
     "data": {
      "text/plain": [
       "count    203.000000\n",
       "mean      15.351495\n",
       "std        4.210524\n",
       "min        4.000000\n",
       "25%       12.735000\n",
       "50%       15.351495\n",
       "75%       18.000000\n",
       "max       29.000000\n",
       "Name: mileage_highway, dtype: float64"
      ]
     },
     "execution_count": 148,
     "metadata": {},
     "output_type": "execute_result"
    }
   ],
   "source": [
    "df['mileage_highway'].describe()"
   ]
  },
  {
   "cell_type": "code",
   "execution_count": 149,
   "metadata": {},
   "outputs": [
    {
     "data": {
      "text/plain": [
       "<matplotlib.collections.PathCollection at 0x7f3bad360e10>"
      ]
     },
     "execution_count": 149,
     "metadata": {},
     "output_type": "execute_result"
    },
    {
     "data": {
      "image/png": "[encoded data removed]",
      "text/plain": [
       "<Figure size 432x288 with 1 Axes>"
      ]
     },
     "metadata": {},
     "output_type": "display_data"
    }
   ],
   "source": [
    "price = df['price']\n",
    "mileage_highway = df['mileage_highway']\n",
    "plt.title(\"Zavisnost kilometraze voznje po autoputu od cene\")\n",
    "plt.xlabel(\"price\")\n",
    "plt.ylabel(\"mileage_highway\")\n",
    "plt.scatter(price, mileage_highway)"
   ]
  },
  {
   "cell_type": "code",
   "execution_count": 150,
   "metadata": {},
   "outputs": [
    {
     "name": "stderr",
     "output_type": "stream",
     "text": [
      "/usr/lib/python2.7/site-packages/ipykernel_launcher.py:3: SettingWithCopyWarning: \n",
      "A value is trying to be set on a copy of a slice from a DataFrame.\n",
      "Try using .loc[row_indexer,col_indexer] = value instead\n",
      "\n",
      "See the caveats in the documentation: http://pandas.pydata.org/pandas-docs/stable/indexing.html#indexing-view-versus-copy\n",
      "  This is separate from the ipykernel package so we can avoid doing imports until\n"
     ]
    },
    {
     "data": {
      "text/plain": [
       "<matplotlib.collections.PathCollection at 0x7f3bad6042d0>"
      ]
     },
     "execution_count": 150,
     "metadata": {},
     "output_type": "execute_result"
    },
    {
     "data": {
      "image/png": "[encoded data removed]",
      "text/plain": [
       "<Figure size 432x288 with 1 Axes>"
      ]
     },
     "metadata": {},
     "output_type": "display_data"
    }
   ],
   "source": [
    "# Sabiramo kilometrazu za grad i autoput\n",
    "tmp = df[['price', 'mileage_city', 'mileage_highway']]\n",
    "tmp['mileage'] = df.apply(lambda row: row['mileage_city'] + row['mileage_highway'], axis=1)\n",
    "\n",
    "price = tmp['price']\n",
    "mileage = tmp['mileage']\n",
    "plt.title(\"Zavisnost kilometraze voznje od cene\")\n",
    "plt.xlabel(\"price\")\n",
    "plt.ylabel(\"mileage\")\n",
    "plt.scatter(price, mileage)"
   ]
  },
  {
   "cell_type": "markdown",
   "metadata": {},
   "source": [
    "c) Odrediti regresioni model kojim se opisuje zavisnost cene od ukupno pređene kilometraže i snage motora. "
   ]
  },
  {
   "cell_type": "markdown",
   "metadata": {},
   "source": [
    "**Napomena:** Prilikom učenja modela, podeliti skup podataka na trening i test skup u razmeri 2:1. Za vrednost random_state parametra uzeti broj 7. "
   ]
  },
  {
   "cell_type": "code",
   "execution_count": 151,
   "metadata": {},
   "outputs": [],
   "source": [
    "from sklearn.model_selection import train_test_split\n",
    "from sklearn.linear_model import LinearRegression"
   ]
  },
  {
   "cell_type": "code",
   "execution_count": 152,
   "metadata": {},
   "outputs": [
    {
     "name": "stderr",
     "output_type": "stream",
     "text": [
      "/usr/lib/python2.7/site-packages/ipykernel_launcher.py:1: SettingWithCopyWarning: \n",
      "A value is trying to be set on a copy of a slice from a DataFrame.\n",
      "Try using .loc[row_indexer,col_indexer] = value instead\n",
      "\n",
      "See the caveats in the documentation: http://pandas.pydata.org/pandas-docs/stable/indexing.html#indexing-view-versus-copy\n",
      "  \"\"\"Entry point for launching an IPython kernel.\n"
     ]
    }
   ],
   "source": [
    "tmp['engine'] = df['engine']\n",
    "X1 = tmp[['mileage', 'engine']]\n",
    "y1 = tmp['price']\n",
    "X_train, X_test, y_train, y_test = train_test_split(X1, y1, test_size=0.25, random_state=7)"
   ]
  },
  {
   "cell_type": "code",
   "execution_count": 153,
   "metadata": {},
   "outputs": [],
   "source": [
    "reg1 = LinearRegression()"
   ]
  },
  {
   "cell_type": "code",
   "execution_count": 154,
   "metadata": {},
   "outputs": [
    {
     "data": {
      "text/plain": [
       "LinearRegression(copy_X=True, fit_intercept=True, n_jobs=1, normalize=False)"
      ]
     },
     "execution_count": 154,
     "metadata": {},
     "output_type": "execute_result"
    }
   ],
   "source": [
    "reg1.fit(X_train, y_train)"
   ]
  },
  {
   "cell_type": "code",
   "execution_count": 155,
   "metadata": {},
   "outputs": [
    {
     "data": {
      "text/plain": [
       "0.7675328237919429"
      ]
     },
     "execution_count": 155,
     "metadata": {},
     "output_type": "execute_result"
    }
   ],
   "source": [
    "reg1.score(X_train, y_train)"
   ]
  },
  {
   "cell_type": "code",
   "execution_count": 156,
   "metadata": {},
   "outputs": [
    {
     "data": {
      "text/plain": [
       "0.7606539661860942"
      ]
     },
     "execution_count": 156,
     "metadata": {},
     "output_type": "execute_result"
    }
   ],
   "source": [
    "reg1.score(X_test, y_test)"
   ]
  },
  {
   "cell_type": "markdown",
   "metadata": {},
   "source": [
    "c) Odrediti regresioni model kojim se opisuje zavisnost cene od pređene kilometraže u gradskoj vožnji, pređene kilometraže na autoputu i snage motora. "
   ]
  },
  {
   "cell_type": "markdown",
   "metadata": {},
   "source": [
    "**Napomena:** Prilikom učenja modela, podeliti skup podataka na trening i test skup u razmeri 2:1. Za vrednost random_state parametra uzeti broj 7. "
   ]
  },
  {
   "cell_type": "code",
   "execution_count": 157,
   "metadata": {},
   "outputs": [],
   "source": [
    "X2 = df[['mileage_city', 'mileage_highway', 'engine']]\n",
    "y2 = df['price']\n",
    "X_train, X_test, y_train, y_test = train_test_split(X2, y2, test_size=0.25, random_state=7)"
   ]
  },
  {
   "cell_type": "code",
   "execution_count": 158,
   "metadata": {},
   "outputs": [],
   "source": [
    "reg2 = LinearRegression()"
   ]
  },
  {
   "cell_type": "code",
   "execution_count": 159,
   "metadata": {},
   "outputs": [
    {
     "data": {
      "text/plain": [
       "LinearRegression(copy_X=True, fit_intercept=True, n_jobs=1, normalize=False)"
      ]
     },
     "execution_count": 159,
     "metadata": {},
     "output_type": "execute_result"
    }
   ],
   "source": [
    "reg2.fit(X_train, y_train)"
   ]
  },
  {
   "cell_type": "code",
   "execution_count": 160,
   "metadata": {},
   "outputs": [
    {
     "data": {
      "text/plain": [
       "0.7679610291059993"
      ]
     },
     "execution_count": 160,
     "metadata": {},
     "output_type": "execute_result"
    }
   ],
   "source": [
    "reg2.score(X_train, y_train)"
   ]
  },
  {
   "cell_type": "code",
   "execution_count": 161,
   "metadata": {},
   "outputs": [
    {
     "data": {
      "text/plain": [
       "0.7583677989299127"
      ]
     },
     "execution_count": 161,
     "metadata": {},
     "output_type": "execute_result"
    }
   ],
   "source": [
    "reg2.score(X_test, y_test)"
   ]
  },
  {
   "cell_type": "markdown",
   "metadata": {},
   "source": [
    "d) Koji od navedenih modela je bolji? Upoređivanje izvršiti korišćenjem unakrsne validacije sa 10 grupa. Korišćenjem boljeg modela dati ocenu za vozilo sa karakteristikama: mileage_city = 9, mileage_highway = 7, engine=5935."
   ]
  },
  {
   "cell_type": "code",
   "execution_count": 162,
   "metadata": {},
   "outputs": [],
   "source": [
    "from sklearn.model_selection import cross_val_score"
   ]
  },
  {
   "cell_type": "code",
   "execution_count": 178,
   "metadata": {},
   "outputs": [
    {
     "data": {
      "text/plain": [
       "array([-4204339.65452447, -3874535.39723934, -2898360.23116725,\n",
       "       -3458516.55269607, -4013583.27919079, -2034253.94187301,\n",
       "       -3156378.10845791, -2710952.08042991, -2908657.24940179,\n",
       "       -2183493.63033981])"
      ]
     },
     "execution_count": 178,
     "metadata": {},
     "output_type": "execute_result"
    }
   ],
   "source": [
    "scores1 = cross_val_score(reg1, X1, y1, cv=10, scoring='neg_mean_absolute_error')\n",
    "scores1"
   ]
  },
  {
   "cell_type": "code",
   "execution_count": 179,
   "metadata": {},
   "outputs": [
    {
     "data": {
      "text/plain": [
       "-3144307.0125320344"
      ]
     },
     "execution_count": 179,
     "metadata": {},
     "output_type": "execute_result"
    }
   ],
   "source": [
    "np.average(scores1)"
   ]
  },
  {
   "cell_type": "code",
   "execution_count": 180,
   "metadata": {},
   "outputs": [
    {
     "data": {
      "text/plain": [
       "array([-4209502.85461812, -4038961.18982297, -2898173.72999158,\n",
       "       -3491114.70167695, -4025354.1665481 , -2076678.41251386,\n",
       "       -3340519.34821431, -2838249.18133119, -2953417.40963824,\n",
       "       -2194990.93972406])"
      ]
     },
     "execution_count": 180,
     "metadata": {},
     "output_type": "execute_result"
    }
   ],
   "source": [
    "scores2 = cross_val_score(reg1, X2, y2, cv=10, scoring='neg_mean_absolute_error')\n",
    "scores2"
   ]
  },
  {
   "cell_type": "code",
   "execution_count": 181,
   "metadata": {},
   "outputs": [
    {
     "data": {
      "text/plain": [
       "-3206696.193407937"
      ]
     },
     "execution_count": 181,
     "metadata": {},
     "output_type": "execute_result"
    }
   ],
   "source": [
    "np.average(scores2)"
   ]
  },
  {
   "cell_type": "code",
   "execution_count": 174,
   "metadata": {},
   "outputs": [],
   "source": [
    "# from sklearn.model_selection import StratifiedKFold\n",
    "# kf = StratifiedKFold(n_splits=10)\n",
    "# npX1 = X1.values\n",
    "# npy1 = y1.values\n",
    "# print(npX1.shape)\n",
    "# print(npy1.shape)\n",
    "# print(type(npX1))\n",
    "# for train_index, test_index in kf.split(npX1, npy1):\n",
    "#     print(train_index)\n",
    "#     X_train, X_test = npX1[train_index], npX1[test_index]\n",
    "#     y_train, y_test = npy1[train_index], npy1[test_index]"
   ]
  },
  {
   "cell_type": "code",
   "execution_count": 186,
   "metadata": {},
   "outputs": [
    {
     "name": "stdout",
     "output_type": "stream",
     "text": [
      "29054777.850430302\n"
     ]
    }
   ],
   "source": [
    "# mileage_city = 9, mileage_highway = 7, engine=5935\n",
    "# Predikcija za prvi\n",
    "x_inst = np.array([[9+7, 5935]])\n",
    "\n",
    "# Treniramo nad celim skupom model\n",
    "reg1.fit(X1, y1)\n",
    "print(reg1.predict(x_inst)[0])"
   ]
  }
 ],
 "metadata": {
  "kernelspec": {
   "display_name": "Python 3",
   "language": "python",
   "name": "python3"
  },
  "language_info": {
   "codemirror_mode": {
    "name": "ipython",
    "version": 2
   },
   "file_extension": ".py",
   "mimetype": "text/x-python",
   "name": "python",
   "nbconvert_exporter": "python",
   "pygments_lexer": "ipython2",
   "version": "2.7.15"
  }
 },
 "nbformat": 4,
 "nbformat_minor": 2
}

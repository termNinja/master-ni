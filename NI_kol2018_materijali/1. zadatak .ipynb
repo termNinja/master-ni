{
 "cells": [
  {
   "cell_type": "markdown",
   "metadata": {},
   "source": [
    "** Hilbertova matrica reda $n$ ** je matrica čiji su elementi oblika $A_{i,j}=\\frac{1}{i+j-1}$, $i, j = 1, \\ldots n$. \n",
    "<br>\n",
    "Na primer, Hilbertova matrica reda 3 je  $\n",
    "\\begin{bmatrix}\n",
    "1 & \\frac{1}{2} & \\frac{1}{3} \\\\\n",
    "\\frac{1}{2} & \\frac{1}{3} & \\frac{1}{4} \\\\\n",
    "\\frac{1}{3} & \\frac{1}{4} & \\frac{1}{5}\n",
    "\\end{bmatrix}\n",
    "$"
   ]
  },
  {
   "cell_type": "code",
   "execution_count": 57,
   "metadata": {},
   "outputs": [],
   "source": [
    "import numpy as np"
   ]
  },
  {
   "cell_type": "markdown",
   "metadata": {},
   "source": [
    "**Napomena:** U verziji 2.7 Python biblioteke deljenje brojeva je celobrojno. Zato treba koristiti količnike oblika $\\frac{1.0}{i+j-1}$"
   ]
  },
  {
   "cell_type": "code",
   "execution_count": null,
   "metadata": {},
   "outputs": [],
   "source": []
  },
  {
   "cell_type": "markdown",
   "metadata": {},
   "source": [
    "**a)** Napisati funkciju koja generiše Hilbertovu matricu reda $n$. "
   ]
  },
  {
   "cell_type": "code",
   "execution_count": 58,
   "metadata": {},
   "outputs": [],
   "source": [
    "def hilbert_matrix(n):\n",
    "    tmp = np.zeros((n, n))\n",
    "    for i in range(n):\n",
    "        for j in range(n):\n",
    "            tmp[i, j] = 1.0 / ((i+1) + (j+1) - 1)\n",
    "    return tmp"
   ]
  },
  {
   "cell_type": "code",
   "execution_count": 59,
   "metadata": {},
   "outputs": [
    {
     "data": {
      "text/plain": [
       "array([[1.        , 0.5       , 0.33333333],\n",
       "       [0.5       , 0.33333333, 0.25      ],\n",
       "       [0.33333333, 0.25      , 0.2       ]])"
      ]
     },
     "execution_count": 59,
     "metadata": {},
     "output_type": "execute_result"
    }
   ],
   "source": [
    "H = hilbert_matrix(3)\n",
    "H"
   ]
  },
  {
   "cell_type": "markdown",
   "metadata": {},
   "source": [
    "**b)** Napisati funkciju koja za date parametre $n$ i $\\sigma$ generiše vektor $b$ čiji su elementi određeni sa $b_i=\\sum_{j=1}^{j=n} \\frac{1}{i+j-1} + \\sigma R(i)$ u kojem $R(i)$ predstavlja slučajan broj iz intervala $[-1, 1]$. "
   ]
  },
  {
   "cell_type": "code",
   "execution_count": 60,
   "metadata": {},
   "outputs": [],
   "source": [
    "np.random.seed(7)"
   ]
  },
  {
   "cell_type": "code",
   "execution_count": 61,
   "metadata": {},
   "outputs": [],
   "source": [
    "def generate_b(n, sigma):\n",
    "    b = np.ones(n)\n",
    "    for i in range(n):\n",
    "        tmp = [1.0/((i+1) + (j+1) -1) for j in range(n)]\n",
    "        eps = np.random.uniform(-1, 1)\n",
    "        b[i] = sum(tmp) + sigma*eps\n",
    "    return b"
   ]
  },
  {
   "cell_type": "code",
   "execution_count": 62,
   "metadata": {},
   "outputs": [
    {
     "data": {
      "text/plain": [
       "array([1.83333333, 1.08333333, 0.78333333])"
      ]
     },
     "execution_count": 62,
     "metadata": {},
     "output_type": "execute_result"
    }
   ],
   "source": [
    "b = generate_b(3, 10**-14)\n",
    "b"
   ]
  },
  {
   "cell_type": "code",
   "execution_count": 63,
   "metadata": {},
   "outputs": [
    {
     "name": "stdout",
     "output_type": "stream",
     "text": [
      "H.shape = (3, 3)\n",
      "b.shape = (3,)\n"
     ]
    }
   ],
   "source": [
    "print(\"H.shape = {}\".format(H.shape))\n",
    "print(\"b.shape = {}\".format(b.shape))"
   ]
  },
  {
   "cell_type": "code",
   "execution_count": 64,
   "metadata": {},
   "outputs": [
    {
     "name": "stdout",
     "output_type": "stream",
     "text": [
      "b aprox: [1.83333333 1.08333333 0.78333333]\n"
     ]
    },
    {
     "name": "stderr",
     "output_type": "stream",
     "text": [
      "/usr/lib/python2.7/site-packages/ipykernel_launcher.py:1: FutureWarning: `rcond` parameter will change to the default of machine precision times ``max(M, N)`` where M and N are the input matrix dimensions.\n",
      "To use the future default and silence this warning we advise to pass `rcond=None`, to keep using the old, explicitly pass `rcond=-1`.\n",
      "  \"\"\"Entry point for launching an IPython kernel.\n"
     ]
    }
   ],
   "source": [
    "sol = np.linalg.lstsq(H, b)[0]\n",
    "b_aprox = H.dot(sol)\n",
    "print(\"b aprox: {}\".format(b_aprox))"
   ]
  },
  {
   "cell_type": "code",
   "execution_count": 65,
   "metadata": {},
   "outputs": [
    {
     "name": "stdout",
     "output_type": "stream",
     "text": [
      "b real: [1.83333333 1.08333333 0.78333333]\n",
      "b aprox: [1.83333333 1.08333333 0.78333333]\n",
      "diff: [1.11022302e-15 2.22044605e-16 0.00000000e+00]\n"
     ]
    }
   ],
   "source": [
    "# Check is it a correct solution\n",
    "print(\"b real: {}\".format(b))\n",
    "print(\"b aprox: {}\".format(b_aprox))\n",
    "print(\"diff: {}\".format(b - b_aprox))"
   ]
  },
  {
   "cell_type": "markdown",
   "metadata": {},
   "source": [
    "** c) ** Koristeći funkcije koje generišu Hilbertove matrice $H$ i vektor $b$ rešiti sistem jednačina $Hx=b$ za $n=10$ i $\\sigma = 10^{-14}$."
   ]
  },
  {
   "cell_type": "code",
   "execution_count": 66,
   "metadata": {},
   "outputs": [
    {
     "name": "stderr",
     "output_type": "stream",
     "text": [
      "/usr/lib/python2.7/site-packages/ipykernel_launcher.py:5: FutureWarning: `rcond` parameter will change to the default of machine precision times ``max(M, N)`` where M and N are the input matrix dimensions.\n",
      "To use the future default and silence this warning we advise to pass `rcond=None`, to keep using the old, explicitly pass `rcond=-1`.\n",
      "  \"\"\"\n"
     ]
    }
   ],
   "source": [
    "n = 10\n",
    "sigma = 10**-14\n",
    "H = hilbert_matrix(n)\n",
    "b = generate_b(n, sigma)\n",
    "sol = np.linalg.lstsq(H, b)[0]"
   ]
  },
  {
   "cell_type": "code",
   "execution_count": 67,
   "metadata": {},
   "outputs": [
    {
     "name": "stdout",
     "output_type": "stream",
     "text": [
      "b real: [2.92896825 2.01987734 1.60321068 1.34680042 1.16822899 1.03489566\n",
      " 0.93072899 0.84669538 0.77725094 0.7187714 ]\n",
      "b aprox: [2.92896825 2.01987734 1.60321068 1.34680042 1.16822899 1.03489566\n",
      " 0.93072899 0.84669538 0.77725094 0.7187714 ]\n"
     ]
    }
   ],
   "source": [
    "print(\"b real: {}\".format(b))\n",
    "print(\"b aprox: {}\".format(H.dot(sol)))"
   ]
  },
  {
   "cell_type": "markdown",
   "metadata": {},
   "source": [
    "**d)** Koristeći funkcije koje generišu Hilbertove matrice $H$ i vektor $b$ rešiti sistem jednačina $Hx=b$ za $n=10$ i $\\sigma = 10^{-5}$."
   ]
  },
  {
   "cell_type": "code",
   "execution_count": 68,
   "metadata": {},
   "outputs": [
    {
     "name": "stderr",
     "output_type": "stream",
     "text": [
      "/usr/lib/python2.7/site-packages/ipykernel_launcher.py:5: FutureWarning: `rcond` parameter will change to the default of machine precision times ``max(M, N)`` where M and N are the input matrix dimensions.\n",
      "To use the future default and silence this warning we advise to pass `rcond=None`, to keep using the old, explicitly pass `rcond=-1`.\n",
      "  \"\"\"\n"
     ]
    }
   ],
   "source": [
    "n = 10\n",
    "sigma = 10**-5\n",
    "H = hilbert_matrix(n)\n",
    "b = generate_b(n, sigma)\n",
    "sol = np.linalg.lstsq(H, b)[0]"
   ]
  },
  {
   "cell_type": "code",
   "execution_count": 69,
   "metadata": {},
   "outputs": [
    {
     "name": "stdout",
     "output_type": "stream",
     "text": [
      "b real: [2.92895957 2.01987311 1.60321887 1.34679469 1.16822804 1.03490428\n",
      " 0.93071949 0.84669739 0.77725994 0.71876601]\n",
      "b aprox: [2.92895957 2.01987311 1.60321887 1.34679469 1.16822804 1.03490428\n",
      " 0.93071949 0.84669739 0.77725994 0.71876601]\n"
     ]
    }
   ],
   "source": [
    "print(\"b real: {}\".format(b))\n",
    "print(\"b aprox: {}\".format(H.dot(sol)))"
   ]
  },
  {
   "cell_type": "code",
   "execution_count": null,
   "metadata": {},
   "outputs": [],
   "source": []
  },
  {
   "cell_type": "code",
   "execution_count": null,
   "metadata": {},
   "outputs": [],
   "source": []
  },
  {
   "cell_type": "markdown",
   "metadata": {},
   "source": [
    "**e)** Čime se može objasniti ovakvo ponašanje rešenja sistema? Obrazložiti."
   ]
  },
  {
   "cell_type": "code",
   "execution_count": 70,
   "metadata": {},
   "outputs": [
    {
     "name": "stdout",
     "output_type": "stream",
     "text": [
      "Uslovljenost matrice H: 1.60252853523e+13\n",
      "Matrica H je lose uslovljena...\n"
     ]
    }
   ],
   "source": [
    "print(\"Uslovljenost matrice H: {}\".format(np.linalg.cond(H)))\n",
    "print(\"Matrica H je lose uslovljena...\")"
   ]
  },
  {
   "cell_type": "code",
   "execution_count": null,
   "metadata": {},
   "outputs": [],
   "source": []
  },
  {
   "cell_type": "code",
   "execution_count": null,
   "metadata": {},
   "outputs": [],
   "source": []
  },
  {
   "cell_type": "code",
   "execution_count": null,
   "metadata": {},
   "outputs": [],
   "source": []
  }
 ],
 "metadata": {
  "kernelspec": {
   "display_name": "Python 3",
   "language": "python",
   "name": "python3"
  },
  "language_info": {
   "codemirror_mode": {
    "name": "ipython",
    "version": 2
   },
   "file_extension": ".py",
   "mimetype": "text/x-python",
   "name": "python",
   "nbconvert_exporter": "python",
   "pygments_lexer": "ipython2",
   "version": "2.7.15"
  }
 },
 "nbformat": 4,
 "nbformat_minor": 2
}

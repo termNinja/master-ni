{
 "cells": [
  {
   "cell_type": "markdown",
   "metadata": {},
   "source": [
    "**1.zadatak**  \n",
    "\n",
    "Merenjem segmenata na putu prikazanom na slici dobijene su sledeće vrednosti:  \n",
    "    <img src='zadatak_1.png'> \n",
    "    \n",
    "AD=89m, AC=67m, BD=53m, AB=35m i CD=20m.  \n",
    "Odrediti dužine segmenata AB, BC i CD. Obrazložiti rešenje."
   ]
  },
  {
   "cell_type": "markdown",
   "metadata": {},
   "source": [
    "**2.zadatak**  \n",
    "\n",
    "Jedna prevozna kompanija je u cilju unapređivanja svojih usluga izvršila ispitivanje o uticaju temperature na broj putnika u vozilima. Podaci o ovom ispitivanju su zadati u datoteci *transport.csv*. Svaki red datoteke se odnosi na jedno ispitivanje i predstavlja temperaturu u farenhajtima i broj putnika u vozilu u trenutku merenja.  \n",
    "\n",
    "* Da li ovaj problem može bit modelovan linearnom regresijom? Obrazložiti odgovor.\n",
    "* Odrediti koeficijente regresionog modela. \n",
    "* Oceniti broj putnika u vozilu ako je temperatura 45F.\n",
    "* Ako je temperatura 42F i broj putnika 173, koliki je rezidual? \n",
    "* Da li je pouzdano predviđati broj putnika za temperaturu 65F? Obrazložiti odgovor.  \n",
    "\n",
    "Pri rešavanju koristiti *scikit-learn* podršku."
   ]
  },
  {
   "cell_type": "code",
   "execution_count": 38,
   "metadata": {
    "collapsed": true
   },
   "outputs": [],
   "source": []
  },
  {
   "cell_type": "markdown",
   "metadata": {},
   "source": [
    "** 3.zadatak**"
   ]
  },
  {
   "cell_type": "markdown",
   "metadata": {},
   "source": [
    "U datoteci *winequality_red.csv* se nalaze podaci o kvalitetu crvenog vina. Odrediti rednost parametra alfa grebene regresije iz intervala [0, 5] (sa korakom 0.01) kojim se dobija najbolja ocena regresionog modela. U oceni koristiti srednjekvadratnu korenu grešku i unakrsnu validaciju sa parametrom k=10. "
   ]
  },
  {
   "cell_type": "markdown",
   "metadata": {},
   "source": [
    "**4.zadatak**  \n",
    "* Na primeru pokazati da su koeficijenti diskretne Furijeove transformacije realne funkcije \n",
    "simetrično konjugovane vrednosti tj. da da važi $c_k = \\overline{c_{-k}}$\n",
    "* Na primeru pokazati de je diskretna Furijeova transformacija zbira $f+g$ funkcija $f$ i $g$ jednaka zbiru njihovih diskretnih  Furijeovih transformacija. "
   ]
  },
  {
   "cell_type": "code",
   "execution_count": null,
   "metadata": {
    "collapsed": true
   },
   "outputs": [],
   "source": []
  }
 ],
 "metadata": {
  "kernelspec": {
   "display_name": "Python 2",
   "language": "python",
   "name": "python2"
  },
  "language_info": {
   "codemirror_mode": {
    "name": "ipython",
    "version": 2
   },
   "file_extension": ".py",
   "mimetype": "text/x-python",
   "name": "python",
   "nbconvert_exporter": "python",
   "pygments_lexer": "ipython2",
   "version": "2.7.13"
  }
 },
 "nbformat": 4,
 "nbformat_minor": 2
}

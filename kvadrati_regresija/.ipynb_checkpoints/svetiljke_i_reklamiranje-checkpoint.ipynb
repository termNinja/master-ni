{
 "cells": [
  {
   "cell_type": "markdown",
   "metadata": {},
   "source": [
    "** Zadatak 1: **  \n",
    "Skup od $n$ lampi osvetljava površinu koja je podeljena u $m$ regiona. Neka je $l_i$ nivo osvetljenja u regionu $i$. Dalje, neka je $p_i$ snaga lampe (može se pretpostaviti da je u pitanju pozitivan broj i da lampa operiše u svojim granicama). Potrebno je odrediti operativne snage lampi tako da površina bude osvetljena u skladu sa zadatim šablonom $l^{des}=\\alpha\\cdot 1$ tj. da nivo osvetljenosti bude $\\alpha$ u svim regionima.  \n",
    "\n",
    "Datoteka *lamps.csv* sadrži informacije o visinama lampi i njihovim pozicijama za slučaj $n=10$ i $m=25x25$."
   ]
  },
  {
   "cell_type": "code",
   "execution_count": 30,
   "metadata": {
    "collapsed": true
   },
   "outputs": [],
   "source": []
  },
  {
   "cell_type": "markdown",
   "metadata": {},
   "source": [
    "** Zadatak 2: ** \n",
    "Društveni domet (eng. social reach) je jedna od mera koja se intenzivno koristi u marketingu. Na osnovu podataka o cenama reklamiranja koje postoje u tabeli *social_reach.csv* u hiljadama dolara za 1000 pregleda za zadate demografske grupe, odrediti iznos sredstava tako da se ostvari milion pregleda u svakoj demografskoj grupi."
   ]
  },
  {
   "cell_type": "code",
   "execution_count": 10,
   "metadata": {
    "collapsed": true
   },
   "outputs": [],
   "source": [
    "import pandas as pd\n",
    "import numpy as np\n",
    "%matplotlib inline"
   ]
  },
  {
   "cell_type": "code",
   "execution_count": 3,
   "metadata": {},
   "outputs": [
    {
     "data": {
      "text/html": [
       "<div>\n",
       "<table border=\"1\" class=\"dataframe\">\n",
       "  <thead>\n",
       "    <tr style=\"text-align: right;\">\n",
       "      <th></th>\n",
       "      <th>web1</th>\n",
       "      <th>web2</th>\n",
       "      <th>web3</th>\n",
       "    </tr>\n",
       "  </thead>\n",
       "  <tbody>\n",
       "    <tr>\n",
       "      <th>0</th>\n",
       "      <td>0.97</td>\n",
       "      <td>1.86</td>\n",
       "      <td>0.41</td>\n",
       "    </tr>\n",
       "    <tr>\n",
       "      <th>1</th>\n",
       "      <td>1.23</td>\n",
       "      <td>2.18</td>\n",
       "      <td>0.53</td>\n",
       "    </tr>\n",
       "    <tr>\n",
       "      <th>2</th>\n",
       "      <td>0.80</td>\n",
       "      <td>1.24</td>\n",
       "      <td>0.62</td>\n",
       "    </tr>\n",
       "    <tr>\n",
       "      <th>3</th>\n",
       "      <td>1.29</td>\n",
       "      <td>0.98</td>\n",
       "      <td>0.51</td>\n",
       "    </tr>\n",
       "    <tr>\n",
       "      <th>4</th>\n",
       "      <td>1.10</td>\n",
       "      <td>1.23</td>\n",
       "      <td>0.69</td>\n",
       "    </tr>\n",
       "    <tr>\n",
       "      <th>5</th>\n",
       "      <td>0.67</td>\n",
       "      <td>0.34</td>\n",
       "      <td>0.54</td>\n",
       "    </tr>\n",
       "    <tr>\n",
       "      <th>6</th>\n",
       "      <td>0.87</td>\n",
       "      <td>0.26</td>\n",
       "      <td>0.62</td>\n",
       "    </tr>\n",
       "    <tr>\n",
       "      <th>7</th>\n",
       "      <td>1.10</td>\n",
       "      <td>0.16</td>\n",
       "      <td>0.48</td>\n",
       "    </tr>\n",
       "    <tr>\n",
       "      <th>8</th>\n",
       "      <td>1.92</td>\n",
       "      <td>0.22</td>\n",
       "      <td>0.71</td>\n",
       "    </tr>\n",
       "    <tr>\n",
       "      <th>9</th>\n",
       "      <td>1.29</td>\n",
       "      <td>0.12</td>\n",
       "      <td>0.62</td>\n",
       "    </tr>\n",
       "  </tbody>\n",
       "</table>\n",
       "</div>"
      ],
      "text/plain": [
       "   web1  web2  web3\n",
       "0  0.97  1.86  0.41\n",
       "1  1.23  2.18  0.53\n",
       "2  0.80  1.24  0.62\n",
       "3  1.29  0.98  0.51\n",
       "4  1.10  1.23  0.69\n",
       "5  0.67  0.34  0.54\n",
       "6  0.87  0.26  0.62\n",
       "7  1.10  0.16  0.48\n",
       "8  1.92  0.22  0.71\n",
       "9  1.29  0.12  0.62"
      ]
     },
     "execution_count": 3,
     "metadata": {},
     "output_type": "execute_result"
    }
   ],
   "source": [
    "# citamo podatke\n",
    "reach = pd.read_csv('social_reach.csv')\n",
    "reach"
   ]
  },
  {
   "cell_type": "code",
   "execution_count": 12,
   "metadata": {
    "collapsed": true
   },
   "outputs": [],
   "source": [
    "# citamo broj demografskih grupa\n",
    "n = reach.shape[0]"
   ]
  },
  {
   "cell_type": "code",
   "execution_count": 13,
   "metadata": {},
   "outputs": [
    {
     "data": {
      "text/plain": [
       "<matplotlib.axes._subplots.AxesSubplot at 0x7fd458b44d90>"
      ]
     },
     "execution_count": 13,
     "metadata": {},
     "output_type": "execute_result"
    },
    {
     "data": {
      "image/png": "[encoded data removed]",
      "text/plain": [
       "<matplotlib.figure.Figure at 0x7fd458639050>"
      ]
     },
     "metadata": {},
     "output_type": "display_data"
    }
   ],
   "source": [
    "# histogram koji prikazuje profil svake od demografskih grupa\n",
    "# http://pandas.pydata.org/pandas-docs/version/0.13.1/visualization.html\n",
    "X = reach[['web1', 'web2', 'web3']]\n",
    "X.plot(kind='bar', color = ['yellow', 'green', 'cadetblue'])"
   ]
  },
  {
   "cell_type": "code",
   "execution_count": 1,
   "metadata": {},
   "outputs": [],
   "source": [
    "# hocemo da ostvarimo milion pregleda u svakoj demografskoj grupi \n",
    "# resavamo sistem X * price priblizno 1000 (jer je cena zadata po hiljadama pregleda)\n",
    "# koristimo raspolozivu lstsq metodu"
   ]
  },
  {
   "cell_type": "code",
   "execution_count": 23,
   "metadata": {},
   "outputs": [
    {
     "data": {
      "text/plain": [
       "array([   62.07662454,    99.98500403,  1442.83746254])"
      ]
     },
     "execution_count": 23,
     "metadata": {},
     "output_type": "execute_result"
    }
   ],
   "source": [
    "goal = 1000 * np.ones(n)\n",
    "price, _, _, _ = np.linalg.lstsq(X, goal)\n",
    "price"
   ]
  },
  {
   "cell_type": "code",
   "execution_count": 22,
   "metadata": {},
   "outputs": [
    {
     "data": {
      "text/plain": [
       "<matplotlib.axes._subplots.AxesSubplot at 0x7fd458553310>"
      ]
     },
     "execution_count": 22,
     "metadata": {},
     "output_type": "execute_result"
    },
    {
     "data": {
      "image/png": "[encoded data removed]",
      "text/plain": [
       "<matplotlib.figure.Figure at 0x7fd458c55610>"
      ]
     },
     "metadata": {},
     "output_type": "display_data"
    }
   ],
   "source": [
    "# pregledamo ostvarenja u svakoj demografskoj grupi\n",
    "result = np.dot(X, price)\n",
    "pd.Series(result).plot(kind = 'bar')"
   ]
  }
 ],
 "metadata": {
  "kernelspec": {
   "display_name": "Python 2",
   "language": "python",
   "name": "python2"
  },
  "language_info": {
   "codemirror_mode": {
    "name": "ipython",
    "version": 2
   },
   "file_extension": ".py",
   "mimetype": "text/x-python",
   "name": "python",
   "nbconvert_exporter": "python",
   "pygments_lexer": "ipython2",
   "version": "2.7.15"
  }
 },
 "nbformat": 4,
 "nbformat_minor": 2
}

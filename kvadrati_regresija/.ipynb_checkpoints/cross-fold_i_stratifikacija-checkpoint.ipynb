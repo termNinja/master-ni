{
 "cells": [
  {
   "cell_type": "markdown",
   "metadata": {},
   "source": [
    "** podela skupa podataka na k podskupova **  \n",
    "primer implementacije pomocu listi"
   ]
  },
  {
   "cell_type": "code",
   "execution_count": 1,
   "metadata": {
    "collapsed": false
   },
   "outputs": [
    {
     "name": "stdout",
     "output_type": "stream",
     "text": [
      "[[[2], [9]], [[8], [3]], [[5], [6]], [[7], [10]]]\n"
     ]
    }
   ],
   "source": [
    "import random\n",
    "\n",
    "# Demo za cross fold podelu skupa podataka na k podskupova skupova  \n",
    "def cross_validation_split(dataset, folds=3):\n",
    "\tdataset_split = list()\n",
    "\tdataset_copy = list(dataset)\n",
    "\tfold_size = int(len(dataset) / folds)\n",
    "\tfor i in range(folds):\n",
    "\t\tfold = list()\n",
    "\t\twhile len(fold) < fold_size:\n",
    "\t\t\tindex = random.randrange(len(dataset_copy))\n",
    "\t\t\tfold.append(dataset_copy.pop(index))\n",
    "\t\tdataset_split.append(fold)\n",
    "\treturn dataset_split\n",
    " \n",
    "random.seed(1)\n",
    "dataset = [[1], [2], [3], [4], [5], [6], [7], [8], [9], [10]]\n",
    "folds = cross_validation_split(dataset, folds =4)\n",
    "print(folds)"
   ]
  },
  {
   "cell_type": "markdown",
   "metadata": {},
   "source": [
    "** Stratifikacija **  \n",
    "Stratifikacija ima za cilj rešavanje pitanja reprezentativnosti skupova za učenje. Poželjno je da skupovi za učenje imaju istu strukturu i zastupljenost elemenata određjenog tipa kao i ceo skup.\n",
    "<img src='stratifikacija.png'>  "
   ]
  },
  {
   "cell_type": "code",
   "execution_count": 3,
   "metadata": {
    "collapsed": false
   },
   "outputs": [
    {
     "name": "stdout",
     "output_type": "stream",
     "text": [
      "[[[1], [3], [7]], [[1], [4], [8]], [[1], [5], [9]], [[2], [6], [10]]]\n"
     ]
    }
   ],
   "source": [
    "# Demo za cross fold podelu skupa podataka na k podskupova skupova sa stratifikacijom\n",
    "\n",
    "def cross_validation_split_stratified(dataset, folds=3):\n",
    "    dataset_split = list()\n",
    "    dataset_copy = list(dataset)\n",
    "    dataset_copy.sort()\n",
    "    fold_size = int(len(dataset) / folds)\n",
    "        \n",
    "    for i in range(folds):\n",
    "        fold = list()\n",
    "        fold = dataset_copy[i::folds]\n",
    "        dataset_split.append(fold)\n",
    "            \n",
    "    return dataset_split\n",
    " \n",
    "dataset = [[1], [1], [1], [2], [3], [4], [5], [6], [7], [8], [9], [10]]\n",
    "folds = cross_validation_split_stratified(dataset, folds = 4)\n",
    "print(folds)"
   ]
  },
  {
   "cell_type": "code",
   "execution_count": null,
   "metadata": {
    "collapsed": true
   },
   "outputs": [],
   "source": []
  }
 ],
 "metadata": {
  "kernelspec": {
   "display_name": "Python 2",
   "language": "python",
   "name": "python2"
  },
  "language_info": {
   "codemirror_mode": {
    "name": "ipython",
    "version": 2
   },
   "file_extension": ".py",
   "mimetype": "text/x-python",
   "name": "python",
   "nbconvert_exporter": "python",
   "pygments_lexer": "ipython2",
   "version": "2.7.13"
  }
 },
 "nbformat": 4,
 "nbformat_minor": 2
}

{
 "cells": [
  {
   "cell_type": "markdown",
   "metadata": {},
   "source": [
    "** 3. zadatak (3 poena) **\n",
    "<br> \n",
    "U datoteci *boston_housing.csv* se nalaze podaci o nekretninama u gradu Bostonu. Za svaku nektretninu poznate su karakterizacije tipa blizine reke, procenta starih zgrada u okolini, vrednosti poreza na nekretnine i slično, kao i cena nekretnine u hiljadama dolara. Potrebno je odrediti grebeni regresioni model kojim se na osnovu poznatih karakterizacija predviđa cena nekretnine. Vrednost regularizacionog parametra odabrati iz mreže *[0, 0.01, 0.1, 1, 10]* tako da srednjekvadratna greška regresionog modela na validacionom skupu bude manja od zadate tačnosti *eps = 27*. Korišćenjem izračunatog parametra, oceniti grešku modela na test skupu.  \n",
    "<br>\n",
    "Podelu na trening, validacioni i test skup izvšiti u razmeri 4:2:3. Vrednost *random_state* atributa koji inicijalizuje algoritam raspodele podataka postaviti na 1. \n",
    "<br>\n",
    "Podatke prilikom korišćenja normalizovati.  "
   ]
  },
  {
   "cell_type": "code",
   "execution_count": 2,
   "metadata": {
    "collapsed": true
   },
   "outputs": [],
   "source": [
    "# podaci koji se koriste su preuzeti sa zvanicnog repozitorijuma za Masinsko ucenje \n",
    "# https://archive.ics.uci.edu/ml/datasets/Housing\n",
    "\n",
    "# poznate karakterizacije nekretnina imaju sledece znacenje:\n",
    "# 1. CRIM      per capita crime rate by town\n",
    "# 2. ZN        proportion of residential land zoned for lots over 25,000 sq.ft.\n",
    "# 3. INDUS     proportion of non-retail business acres per town\n",
    "# 4. CHAS      Charles River dummy variable (= 1 if tract bounds river; 0 otherwise)\n",
    "# 5. NOX       nitric oxides concentration (parts per 10 million)\n",
    "# 6. RM        average number of rooms per dwelling\n",
    "# 7. AGE       proportion of owner-occupied units built prior to 1940\n",
    "# 8. DIS       weighted distances to five Boston employment centres\n",
    "# 9. RAD       index of accessibility to radial highways\n",
    "# 10. TAX      full-value property-tax rate per $10,000\n",
    "# 11. PTRATIO  pupil-teacher ratio by town\n",
    "# 12. B        1000(Bk - 0.63)^2 where Bk is the proportion of blacks by town\n",
    "# 13. LSTAT    % lower status of the population\n",
    " \n",
    "# vrednost koja se predvidja\n",
    "#14. MEDV     Median value of owner-occupied homes in $1000's"
   ]
  },
  {
   "cell_type": "code",
   "execution_count": null,
   "metadata": {
    "collapsed": true
   },
   "outputs": [],
   "source": []
  }
 ],
 "metadata": {
  "kernelspec": {
   "display_name": "Python 2",
   "language": "python",
   "name": "python2"
  },
  "language_info": {
   "codemirror_mode": {
    "name": "ipython",
    "version": 2
   },
   "file_extension": ".py",
   "mimetype": "text/x-python",
   "name": "python",
   "nbconvert_exporter": "python",
   "pygments_lexer": "ipython2",
   "version": "2.7.13"
  }
 },
 "nbformat": 4,
 "nbformat_minor": 2
}

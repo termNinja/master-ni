{
 "cells": [
  {
   "cell_type": "markdown",
   "metadata": {},
   "source": [
    "** 2. zadatak (4 poena) **\n",
    "<br>\n",
    "Odrediti centar $(p, q)$ i radius $r$ kruga $(x-p)^2 + (y-q)^2 = r^2$ koji najbolje, u smislu metode najmanjih kvadrata, aproksimira tačke (0.7, 4), (3.3, 4.7), (5.6, 4.0), (7.5, 1.3), (6.4, -1.1), (4.4, -3.0), (0.3, -2.5) i (-1.1, 1.3)."
   ]
  },
  {
   "cell_type": "code",
   "execution_count": 7,
   "metadata": {},
   "outputs": [],
   "source": [
    "import numpy as np\n",
    "import matplotlib.pyplot as plt\n",
    "%matplotlib inline"
   ]
  },
  {
   "cell_type": "code",
   "execution_count": 8,
   "metadata": {},
   "outputs": [],
   "source": [
    "points = np.array([(0.7, 4), (3.3, 4.7), (5.6, 4.0), (7.5, 1.3),\\\n",
    "                   (6.4, -1.1), (4.4, -3.0), (0.3, -2.5), (-1.1, 1.3)])"
   ]
  },
  {
   "cell_type": "code",
   "execution_count": 13,
   "metadata": {},
   "outputs": [
    {
     "data": {
      "text/plain": [
       "<matplotlib.collections.PathCollection at 0x7f696402ff90>"
      ]
     },
     "execution_count": 13,
     "metadata": {},
     "output_type": "execute_result"
    },
    {
     "data": {
      "image/png": "[encoded data removed]",
      "text/plain": [
       "<Figure size 432x288 with 1 Axes>"
      ]
     },
     "metadata": {},
     "output_type": "display_data"
    }
   ],
   "source": [
    "tmp = points.transpose()\n",
    "plt.scatter(tmp[0], tmp[1])"
   ]
  },
  {
   "cell_type": "code",
   "execution_count": 14,
   "metadata": {},
   "outputs": [
    {
     "data": {
      "text/plain": [
       "array([[ 0.7,  4. ],\n",
       "       [ 3.3,  4.7],\n",
       "       [ 5.6,  4. ],\n",
       "       [ 7.5,  1.3],\n",
       "       [ 6.4, -1.1],\n",
       "       [ 4.4, -3. ],\n",
       "       [ 0.3, -2.5],\n",
       "       [-1.1,  1.3]])"
      ]
     },
     "execution_count": 14,
     "metadata": {},
     "output_type": "execute_result"
    }
   ],
   "source": [
    "points"
   ]
  },
  {
   "cell_type": "code",
   "execution_count": 18,
   "metadata": {},
   "outputs": [
    {
     "data": {
      "text/plain": [
       "array([[ 0.7,  4. ,  1. ],\n",
       "       [ 3.3,  4.7,  1. ],\n",
       "       [ 5.6,  4. ,  1. ],\n",
       "       [ 7.5,  1.3,  1. ],\n",
       "       [ 6.4, -1.1,  1. ],\n",
       "       [ 4.4, -3. ,  1. ],\n",
       "       [ 0.3, -2.5,  1. ],\n",
       "       [-1.1,  1.3,  1. ]])"
      ]
     },
     "execution_count": 18,
     "metadata": {},
     "output_type": "execute_result"
    }
   ],
   "source": [
    "A = np.ones((points.shape[0], 3))\n",
    "A[:, :2] = points"
   ]
  },
  {
   "cell_type": "code",
   "execution_count": 19,
   "metadata": {},
   "outputs": [],
   "source": [
    "b = A[:, 0]**2 + A[:, 1]**2"
   ]
  },
  {
   "cell_type": "code",
   "execution_count": 24,
   "metadata": {},
   "outputs": [
    {
     "name": "stderr",
     "output_type": "stream",
     "text": [
      "/usr/lib/python2.7/site-packages/ipykernel_launcher.py:1: FutureWarning: `rcond` parameter will change to the default of machine precision times ``max(M, N)`` where M and N are the input matrix dimensions.\n",
      "To use the future default and silence this warning we advise to pass `rcond=None`, to keep using the old, explicitly pass `rcond=-1`.\n",
      "  \"\"\"Entry point for launching an IPython kernel.\n"
     ]
    }
   ],
   "source": [
    "sol = np.linalg.lstsq(A, b)[0]"
   ]
  },
  {
   "cell_type": "code",
   "execution_count": 26,
   "metadata": {},
   "outputs": [
    {
     "data": {
      "text/plain": [
       "array([6.12060713, 1.48721464, 6.96659742])"
      ]
     },
     "execution_count": 26,
     "metadata": {},
     "output_type": "execute_result"
    }
   ],
   "source": [
    "sol"
   ]
  },
  {
   "cell_type": "code",
   "execution_count": 27,
   "metadata": {},
   "outputs": [
    {
     "name": "stdout",
     "output_type": "stream",
     "text": [
      "Center: (3.0603035657273505, 0.7436073210423237)\n"
     ]
    }
   ],
   "source": [
    "p = sol[0]/2\n",
    "q = sol[1]/2\n",
    "print(\"Center: {}\".format((p, q)))"
   ]
  },
  {
   "cell_type": "code",
   "execution_count": 30,
   "metadata": {},
   "outputs": [],
   "source": [
    "r = np.sqrt(sol[2] + p*p + q*q)"
   ]
  },
  {
   "cell_type": "code",
   "execution_count": 36,
   "metadata": {},
   "outputs": [
    {
     "data": {
      "text/plain": [
       "[<matplotlib.lines.Line2D at 0x7f695f9e0450>]"
      ]
     },
     "execution_count": 36,
     "metadata": {},
     "output_type": "execute_result"
    },
    {
     "data": {
      "image/png": "[encoded data removed]",
      "text/plain": [
       "<Figure size 432x288 with 1 Axes>"
      ]
     },
     "metadata": {},
     "output_type": "display_data"
    }
   ],
   "source": [
    "plt.scatter([p], [q])\n",
    "plt.scatter(tmp[0], tmp[1])\n",
    "plt.plot([p, p+r], [q, q])\n",
    "plt.plot([p, p-r], [q, q])\n",
    "plt.plot([p, p], [q, q+r])\n",
    "plt.plot([p, p], [q, q-r])"
   ]
  },
  {
   "cell_type": "code",
   "execution_count": null,
   "metadata": {},
   "outputs": [],
   "source": []
  }
 ],
 "metadata": {
  "kernelspec": {
   "display_name": "Python 2",
   "language": "python",
   "name": "python2"
  },
  "language_info": {
   "codemirror_mode": {
    "name": "ipython",
    "version": 2
   },
   "file_extension": ".py",
   "mimetype": "text/x-python",
   "name": "python",
   "nbconvert_exporter": "python",
   "pygments_lexer": "ipython2",
   "version": "2.7.15"
  }
 },
 "nbformat": 4,
 "nbformat_minor": 2
}
